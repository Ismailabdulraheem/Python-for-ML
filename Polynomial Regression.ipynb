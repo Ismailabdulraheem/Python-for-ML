{
 "cells": [
  {
   "cell_type": "markdown",
   "id": "656cca33",
   "metadata": {},
   "source": [
    "### Polynomial Regression"
   ]
  },
  {
   "cell_type": "markdown",
   "id": "03ba05f1",
   "metadata": {},
   "source": [
    "Used when data is not linear."
   ]
  },
  {
   "cell_type": "code",
   "execution_count": 1,
   "id": "3d07f075",
   "metadata": {},
   "outputs": [],
   "source": [
    "import numpy as np\n",
    "import matplotlib.pyplot as plt\n",
    "from lab_utils_multi import zscore_normalize_features, run_gradient_descent_feng"
   ]
  },
  {
   "cell_type": "code",
   "execution_count": 2,
   "id": "dbd9803e",
   "metadata": {},
   "outputs": [
    {
     "ename": "ValueError",
     "evalue": "not enough values to unpack (expected 2, got 1)",
     "output_type": "error",
     "traceback": [
      "\u001b[31m---------------------------------------------------------------------------\u001b[39m",
      "\u001b[31mValueError\u001b[39m                                Traceback (most recent call last)",
      "\u001b[36mCell\u001b[39m\u001b[36m \u001b[39m\u001b[32mIn[2]\u001b[39m\u001b[32m, line 5\u001b[39m\n\u001b[32m      2\u001b[39m y = \u001b[32m1\u001b[39m + x**\u001b[32m2\u001b[39m\n\u001b[32m      3\u001b[39m X = x**\u001b[32m2\u001b[39m\n\u001b[32m----> \u001b[39m\u001b[32m5\u001b[39m model_w,model_b = \u001b[43mrun_gradient_descent_feng\u001b[49m\u001b[43m(\u001b[49m\u001b[43mX\u001b[49m\u001b[43m,\u001b[49m\u001b[43my\u001b[49m\u001b[43m,\u001b[49m\u001b[43miterations\u001b[49m\u001b[43m=\u001b[49m\u001b[32;43m1000\u001b[39;49m\u001b[43m,\u001b[49m\u001b[43m \u001b[49m\u001b[43malpha\u001b[49m\u001b[43m \u001b[49m\u001b[43m=\u001b[49m\u001b[43m \u001b[49m\u001b[32;43m1e-2\u001b[39;49m\u001b[43m)\u001b[49m\n\u001b[32m      7\u001b[39m plt.scatter(x, y, marker=\u001b[33m'\u001b[39m\u001b[33mx\u001b[39m\u001b[33m'\u001b[39m, c=\u001b[33m'\u001b[39m\u001b[33mr\u001b[39m\u001b[33m'\u001b[39m, label=\u001b[33m\"\u001b[39m\u001b[33mActual Value\u001b[39m\u001b[33m\"\u001b[39m); plt.title(\u001b[33m\"\u001b[39m\u001b[33mno feature engineering\u001b[39m\u001b[33m\"\u001b[39m)\n\u001b[32m      8\u001b[39m plt.plot(x,X\u001b[38;5;129m@model_w\u001b[39m + model_b, label=\u001b[33m\"\u001b[39m\u001b[33mPredicted Value\u001b[39m\u001b[33m\"\u001b[39m);  plt.xlabel(\u001b[33m\"\u001b[39m\u001b[33mX\u001b[39m\u001b[33m\"\u001b[39m); plt.ylabel(\u001b[33m\"\u001b[39m\u001b[33my\u001b[39m\u001b[33m\"\u001b[39m); plt.legend(); plt.show()\n",
      "\u001b[36mFile \u001b[39m\u001b[32m~/Documents/VS Codes/Python for ML/lab_utils_multi.py:480\u001b[39m, in \u001b[36mrun_gradient_descent_feng\u001b[39m\u001b[34m(X, y, iterations, alpha)\u001b[39m\n\u001b[32m    479\u001b[39m \u001b[38;5;28;01mdef\u001b[39;00m\u001b[38;5;250m \u001b[39m\u001b[34mrun_gradient_descent_feng\u001b[39m(X,y,iterations=\u001b[32m1000\u001b[39m, alpha = \u001b[32m1e-6\u001b[39m):\n\u001b[32m--> \u001b[39m\u001b[32m480\u001b[39m     m,n = X.shape\n\u001b[32m    481\u001b[39m     \u001b[38;5;66;03m# initialize parameters\u001b[39;00m\n\u001b[32m    482\u001b[39m     initial_w = np.zeros(n)\n",
      "\u001b[31mValueError\u001b[39m: not enough values to unpack (expected 2, got 1)"
     ]
    }
   ],
   "source": [
    "x = np.arange(0,20,1)\n",
    "y = 1 + x**2\n",
    "X = x**2\n",
    "\n",
    "model_w,model_b = run_gradient_descent_feng(X,y,iterations=1000, alpha = 1e-2)\n",
    "\n",
    "plt.scatter(x, y, marker='x', c='r', label=\"Actual Value\"); plt.title(\"no feature engineering\")\n",
    "plt.plot(x,X@model_w + model_b, label=\"Predicted Value\");  plt.xlabel(\"X\"); plt.ylabel(\"y\"); plt.legend(); plt.show()"
   ]
  },
  {
   "cell_type": "code",
   "execution_count": null,
   "id": "9343feae",
   "metadata": {},
   "outputs": [],
   "source": []
  }
 ],
 "metadata": {
  "kernelspec": {
   "display_name": "anaconda-finance",
   "language": "python",
   "name": "python3"
  },
  "language_info": {
   "codemirror_mode": {
    "name": "ipython",
    "version": 3
   },
   "file_extension": ".py",
   "mimetype": "text/x-python",
   "name": "python",
   "nbconvert_exporter": "python",
   "pygments_lexer": "ipython3",
   "version": "3.11.13"
  }
 },
 "nbformat": 4,
 "nbformat_minor": 5
}
