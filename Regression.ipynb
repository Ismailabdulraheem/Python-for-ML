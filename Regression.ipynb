{
 "cells": [
  {
   "cell_type": "markdown",
   "id": "7d6020bd",
   "metadata": {},
   "source": [
    "### Import needed Libraries\n",
    "```python"
   ]
  },
  {
   "cell_type": "code",
   "execution_count": 6,
   "id": "7d6c5848",
   "metadata": {},
   "outputs": [],
   "source": [
    "import numpy as np\n",
    "import copy, math\n",
    "import matplotlib.pyplot as plt"
   ]
  },
  {
   "cell_type": "markdown",
   "id": "ec2c2aa4",
   "metadata": {},
   "source": [
    "### Create Variables"
   ]
  },
  {
   "cell_type": "code",
   "execution_count": 7,
   "id": "77050e93",
   "metadata": {},
   "outputs": [],
   "source": [
    "X_train = np.array([[2104, 5, 1, 45], [1416, 3, 2, 40], [852, 2, 1, 35]])\n",
    "y_train = np.array([460, 232, 178])\n",
    "b_init = 785.1811367994083\n",
    "w_init = np.array([ 0.39133535, 18.75376741, -53.36032453, -26.42131618])"
   ]
  },
  {
   "cell_type": "markdown",
   "id": "4c1853e8",
   "metadata": {},
   "source": [
    "For multiple variables\n",
    "$$f_{\\mathbf{w},b}(\\mathbf{x}) = \\mathbf{w} \\cdot \\mathbf{x} + b "
   ]
  },
  {
   "cell_type": "code",
   "execution_count": 8,
   "id": "6000305a",
   "metadata": {},
   "outputs": [],
   "source": [
    "def predict (X, w, b):\n",
    "    p = np.dot(X, w) + b\n",
    "    return p"
   ]
  },
  {
   "cell_type": "code",
   "execution_count": 9,
   "id": "4844edb4",
   "metadata": {},
   "outputs": [
    {
     "name": "stdout",
     "output_type": "stream",
     "text": [
      "459.99999761940825\n"
     ]
    }
   ],
   "source": [
    "x_vec = X_train[0]\n",
    "f_wb = predict(x_vec, w_init, b_init)\n",
    "print(f_wb)"
   ]
  },
  {
   "cell_type": "markdown",
   "id": "576ca89f",
   "metadata": {},
   "source": [
    "Compute cost for multiple variables\n",
    "$$J(\\mathbf{w}, b) = \\frac{1}{2m} \\sum_{i=0}^{m-1} (f_{\\mathbf{w},b}(\\mathbf{x}^{(i)}) - y^{(i)})^2 \n"
   ]
  },
  {
   "cell_type": "code",
   "execution_count": 11,
   "id": "c9ef6770",
   "metadata": {},
   "outputs": [
    {
     "name": "stdout",
     "output_type": "stream",
     "text": [
      "Cost at optimal w : 1.5578904880036537e-12\n"
     ]
    }
   ],
   "source": [
    "\n",
    "def compute_cost(X, y, w, b):\n",
    "    m = X.shape[0]\n",
    "    f_wb = np.dot(X, w) + b \n",
    "    cost = np.sum((f_wb - y)**2) / (2 * m)\n",
    "    \n",
    "    return cost \n",
    "cost = compute_cost(X_train, y_train, w_init, b_init)\n",
    "print(f'Cost at optimal w : {cost}')"
   ]
  },
  {
   "cell_type": "markdown",
   "id": "8efedecf",
   "metadata": {},
   "source": [
    "Gradient for Multiple Variables"
   ]
  },
  {
   "cell_type": "markdown",
   "id": "fec6da25",
   "metadata": {},
   "source": [
    "$$w_j = w_j - \\alpha \\frac{\\partial J(\\mathbf{w}, b)}{\\partial w_j}  $$\n",
    "\n",
    "$$b = b - \\alpha \\frac{\\partial J(\\mathbf{w}, b)}{\\partial b}$$\n"
   ]
  },
  {
   "cell_type": "code",
   "execution_count": null,
   "id": "913f5b09",
   "metadata": {},
   "outputs": [],
   "source": [
    "def compute_gradient(X, y, w, b):\n",
    "    m, n = X.shape\n",
    "    f_wb = np.dot(X, w) + b \n",
    "    err = f_wb - y\n",
    "    dj_dw = np.dot(X.T, err) / m \n",
    "    dj_db = np.sum(err) / m\n",
    "    \n",
    "    return dj_db, dj_dw"
   ]
  },
  {
   "cell_type": "code",
   "execution_count": null,
   "id": "152550e4",
   "metadata": {},
   "outputs": [],
   "source": []
  }
 ],
 "metadata": {
  "kernelspec": {
   "display_name": "anaconda-finance",
   "language": "python",
   "name": "python3"
  },
  "language_info": {
   "codemirror_mode": {
    "name": "ipython",
    "version": 3
   },
   "file_extension": ".py",
   "mimetype": "text/x-python",
   "name": "python",
   "nbconvert_exporter": "python",
   "pygments_lexer": "ipython3",
   "version": "3.11.13"
  }
 },
 "nbformat": 4,
 "nbformat_minor": 5
}
